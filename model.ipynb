{
  "cells": [
    {
      "cell_type": "markdown",
      "source": [
        "Imports"
      ],
      "metadata": {
        "id": "IhgH94IJXpnL"
      }
    },
    {
      "cell_type": "code",
      "source": [
        "import pickle\n",
        "import os\n",
        "import numpy as np\n",
        "import matplotlib.pyplot as plt\n",
        "from scipy import integrate\n",
        "from sklearn.model_selection import train_test_split\n",
        "from sklearn.preprocessing import normalize "
      ],
      "metadata": {
        "id": "TyILMJ_3XsBx"
      },
      "execution_count": 4,
      "outputs": []
    },
    {
      "cell_type": "markdown",
      "metadata": {
        "id": "MntUr3JSWK2J"
      },
      "source": [
        "# 1. Download the Dataset"
      ]
    },
    {
      "cell_type": "code",
      "execution_count": 5,
      "metadata": {
        "colab": {
          "base_uri": "https://localhost:8080/"
        },
        "id": "FklyZFvgWK2U",
        "outputId": "be88b0d1-c8d2-49b0-e9d9-44299c19ad2f"
      },
      "outputs": [
        {
          "output_type": "stream",
          "name": "stdout",
          "text": [
            "--2022-05-24 17:19:45--  https://f002.backblazeb2.com/file/deepsig-datasets/2016.10/RML2016.10b.tar.bz2?Authorization=3_20220524171902_5720135f26e7b6807cab1d44_d95e3b6716b264b31770dc31b2d493f826c958f4_002_20220524181902_0027_dnld\n",
            "Resolving f002.backblazeb2.com (f002.backblazeb2.com)... 206.190.215.16\n",
            "Connecting to f002.backblazeb2.com (f002.backblazeb2.com)|206.190.215.16|:443... connected.\n",
            "HTTP request sent, awaiting response... 200 \n",
            "Length: 1245608913 (1.2G) [application/x-bzip2]\n",
            "Saving to: ‘RML2016.10b.tar.bz2?Authorization=3_20220524171902_5720135f26e7b6807cab1d44_d95e3b6716b264b31770dc31b2d493f826c958f4_002_20220524181902_0027_dnld’\n",
            "\n",
            "RML2016.10b.tar.bz2 100%[===================>]   1.16G  54.9MB/s    in 22s     \n",
            "\n",
            "2022-05-24 17:20:07 (54.6 MB/s) - ‘RML2016.10b.tar.bz2?Authorization=3_20220524171902_5720135f26e7b6807cab1d44_d95e3b6716b264b31770dc31b2d493f826c958f4_002_20220524181902_0027_dnld’ saved [1245608913/1245608913]\n",
            "\n"
          ]
        }
      ],
      "source": [
        "!wget {\"https://f002.backblazeb2.com/file/deepsig-datasets/2016.10/RML2016.10b.tar.bz2?Authorization=3_20220524171902_5720135f26e7b6807cab1d44_d95e3b6716b264b31770dc31b2d493f826c958f4_002_20220524181902_0027_dnld\"}\n",
        "os.rename(\"RML2016.10b.tar.bz2?Authorization=3_20220524171902_5720135f26e7b6807cab1d44_d95e3b6716b264b31770dc31b2d493f826c958f4_002_20220524181902_0027_dnld\", \"RML2016.10b.tar.bz2\")\n",
        "!tar jxf RML2016.10b.tar.bz2\n"
      ]
    },
    {
      "cell_type": "code",
      "source": [
        "Data = pickle.load(open(\"RML2016.10b.dat\",'rb'), encoding = 'bytes')\n",
        "snrs, mods = map(lambda j: sorted(list(set(map(lambda x: x[j], Data.keys())))), [1,0])\n",
        "print(f\"Mods: {mods}\")\n",
        "print(f\"SNRs: {snrs}\")\n",
        "X = []      #X is data, y is labels\n",
        "y = []\n",
        "for mod in mods:\n",
        "    for snr in snrs:\n",
        "        X.append(Data[(mod,snr)])\n",
        "        for i in range(Data[(mod,snr)].shape[0]):  y.append((mod,snr))\n",
        "X = np.vstack(X)\n",
        "print(X.shape)\n",
        "print (Data.keys())"
      ],
      "metadata": {
        "colab": {
          "base_uri": "https://localhost:8080/"
        },
        "id": "6QeUpZqAb2Vv",
        "outputId": "024a0dc7-5c4c-4de8-b760-fdec6f446d5c"
      },
      "execution_count": 6,
      "outputs": [
        {
          "output_type": "stream",
          "name": "stdout",
          "text": [
            "Mods: [b'8PSK', b'AM-DSB', b'BPSK', b'CPFSK', b'GFSK', b'PAM4', b'QAM16', b'QAM64', b'QPSK', b'WBFM']\n",
            "SNRs: [-20, -18, -16, -14, -12, -10, -8, -6, -4, -2, 0, 2, 4, 6, 8, 10, 12, 14, 16, 18]\n",
            "(1200000, 2, 128)\n",
            "dict_keys([(b'QPSK', 2), (b'PAM4', 8), (b'AM-DSB', -4), (b'GFSK', 6), (b'QAM64', 8), (b'PAM4', 18), (b'QAM64', -6), (b'QAM16', 2), (b'QAM16', -20), (b'8PSK', -18), (b'PAM4', -6), (b'WBFM', -18), (b'BPSK', 8), (b'CPFSK', 10), (b'WBFM', 6), (b'BPSK', 4), (b'BPSK', -2), (b'QPSK', -20), (b'CPFSK', -8), (b'QAM64', -20), (b'QAM16', 12), (b'GFSK', -20), (b'CPFSK', 0), (b'AM-DSB', 6), (b'BPSK', -16), (b'QPSK', -6), (b'8PSK', -12), (b'CPFSK', -18), (b'AM-DSB', -18), (b'QPSK', 8), (b'PAM4', 14), (b'WBFM', -8), (b'AM-DSB', -10), (b'GFSK', 12), (b'QAM64', 2), (b'8PSK', -10), (b'QAM64', -4), (b'GFSK', -4), (b'AM-DSB', 8), (b'PAM4', -16), (b'QPSK', -16), (b'BPSK', 16), (b'WBFM', -14), (b'CPFSK', 16), (b'WBFM', 0), (b'QPSK', 6), (b'BPSK', 14), (b'AM-DSB', -8), (b'GFSK', -10), (b'CPFSK', -2), (b'QAM16', 8), (b'QAM16', 6), (b'QAM16', -16), (b'QAM64', 18), (b'CPFSK', 6), (b'BPSK', 0), (b'BPSK', -6), (b'8PSK', -14), (b'CPFSK', -12), (b'WBFM', 10), (b'BPSK', -20), (b'PAM4', 4), (b'GFSK', 10), (b'QAM16', -6), (b'QAM64', 4), (b'PAM4', -20), (b'8PSK', 10), (b'QAM64', -10), (b'GFSK', -6), (b'AM-DSB', 2), (b'PAM4', -10), (b'QPSK', -2), (b'8PSK', -8), (b'8PSK', 0), (b'QPSK', 12), (b'8PSK', 12), (b'AM-DSB', -14), (b'GFSK', 0), (b'QAM64', 14), (b'QAM64', -8), (b'QAM16', 0), (b'GFSK', -16), (b'WBFM', 2), (b'PAM4', -4), (b'QPSK', -12), (b'WBFM', -20), (b'CPFSK', 12), (b'WBFM', 4), (b'BPSK', 10), (b'BPSK', -4), (b'QPSK', -18), (b'CPFSK', -6), (b'BPSK', -12), (b'8PSK', 16), (b'QAM16', 10), (b'QAM16', -12), (b'WBFM', -6), (b'8PSK', -20), (b'CPFSK', 2), (b'QPSK', 16), (b'AM-DSB', 4), (b'BPSK', -10), (b'WBFM', -4), (b'CPFSK', -16), (b'WBFM', -16), (b'QPSK', 10), (b'PAM4', 0), (b'AM-DSB', -12), (b'GFSK', 14), (b'QAM16', -2), (b'QAM64', 0), (b'WBFM', -10), (b'QAM64', -14), (b'GFSK', -2), (b'AM-DSB', 14), (b'PAM4', -14), (b'QPSK', -14), (b'8PSK', -4), (b'CPFSK', 18), (b'8PSK', 4), (b'QPSK', 0), (b'BPSK', 12), (b'AM-DSB', -2), (b'GFSK', 4), (b'QAM64', 10), (b'8PSK', 2), (b'QAM16', -10), (b'PAM4', 16), (b'QAM16', 4), (b'GFSK', 8), (b'QAM16', -18), (b'QAM64', 16), (b'PAM4', -8), (b'WBFM', 16), (b'WBFM', 14), (b'CPFSK', 8), (b'BPSK', 6), (b'BPSK', -8), (b'CPFSK', -10), (b'PAM4', 6), (b'QAM64', -18), (b'QAM16', 14), (b'QAM16', -8), (b'PAM4', -18), (b'AM-DSB', 18), (b'QAM64', -12), (b'AM-DSB', 0), (b'BPSK', -14), (b'QPSK', -8), (b'8PSK', -6), (b'CPFSK', -20), (b'GFSK', 16), (b'WBFM', 8), (b'QPSK', 14), (b'PAM4', 12), (b'AM-DSB', -16), (b'GFSK', 2), (b'BPSK', -18), (b'QAM64', 12), (b'QAM64', -2), (b'8PSK', 14), (b'GFSK', -14), (b'BPSK', 18), (b'PAM4', -2), (b'QPSK', -10), (b'CPFSK', 14), (b'8PSK', 8), (b'QPSK', 4), (b'AM-DSB', 16), (b'AM-DSB', -6), (b'CPFSK', -4), (b'WBFM', -2), (b'8PSK', 18), (b'GFSK', 18), (b'QAM16', -14), (b'AM-DSB', 10), (b'WBFM', -12), (b'CPFSK', 4), (b'QPSK', 18), (b'BPSK', 2), (b'AM-DSB', -20), (b'8PSK', -16), (b'CPFSK', -14), (b'WBFM', 18), (b'PAM4', 2), (b'QAM16', 18), (b'QAM16', -4), (b'QAM64', 6), (b'GFSK', -18), (b'PAM4', 10), (b'QAM64', -16), (b'QAM16', 16), (b'GFSK', -8), (b'AM-DSB', 12), (b'PAM4', -12), (b'QPSK', -4), (b'8PSK', -2), (b'GFSK', -12), (b'8PSK', 6), (b'WBFM', 12)])\n"
          ]
        }
      ]
    },
    {
      "cell_type": "code",
      "source": [
        "plt.plot(Data[b'AM-DSB',0][2,0])\n",
        "plt.xlabel(\"Time\")\n",
        "plt.ylabel(\"Amplitude\")\n",
        "plt.title(\"AM-DSB SNR 0 Sample Data\")\n",
        "plt.grid(b=True, axis='both')"
      ],
      "metadata": {
        "colab": {
          "base_uri": "https://localhost:8080/",
          "height": 295
        },
        "id": "fROaLG2skYW4",
        "outputId": "8a366e84-3256-41a2-c71f-08fab537d015"
      },
      "execution_count": 7,
      "outputs": [
        {
          "output_type": "display_data",
          "data": {
            "text/plain": [
              "<Figure size 432x288 with 1 Axes>"
            ],
            "image/png": "[encoded data removed]"
          },
          "metadata": {
            "needs_background": "light"
          }
        }
      ]
    },
    {
      "cell_type": "markdown",
      "metadata": {
        "id": "kBpz0-8uWK2W"
      },
      "source": [
        "# 2. Create Feature Space"
      ]
    },
    {
      "cell_type": "code",
      "execution_count": null,
      "metadata": {
        "id": "hl8HO7K4WK2X",
        "colab": {
          "base_uri": "https://localhost:8080/"
        },
        "outputId": "caca81cc-bee8-4c55-c319-cb177e657cfc"
      },
      "outputs": [
        {
          "output_type": "stream",
          "name": "stderr",
          "text": [
            "/usr/local/lib/python3.7/dist-packages/ipykernel_launcher.py:2: VisibleDeprecationWarning: Creating an ndarray from ragged nested sequences (which is a list-or-tuple of lists-or-tuples-or ndarrays with different lengths or shapes) is deprecated. If you meant to do this, you must specify 'dtype=object' when creating the ndarray.\n",
            "  \n"
          ]
        },
        {
          "output_type": "stream",
          "name": "stdout",
          "text": [
            "(2,)\n"
          ]
        }
      ],
      "source": [
        "features_of_raw_time_series = X[:0],X[:1]\n",
        "features_of_raw_time_series = np.asarray(features_of_raw_time_series)\n",
        "#features_of_raw_time_series = features_of_raw_time_series.flatten()\n",
        "print(features_of_raw_time_series.shape)\n",
        "features_of_first_derivative_in_time =normalize(np.gradient(X[:,0], axis = 1)), normalize(np.gradient(X[:,1], axis = 1))       \n",
        "features_of_first_derivative_in_time = np.asarray(features_of_first_derivative_in_time)\n",
        "features_of_first_derivative_in_time= np.reshape(features_of_first_derivative_in_time,(1200000, 2, 128))\n",
        "features_of_integral_in_time = integrate.cumtrapz(X, initial=0)\n",
        "features_of_integral_in_time = np.asarray(features_of_integral_in_time)\n",
        "Combined_features = np.concatenate((features_of_raw_time_series,features_of_first_derivative_in_time, features_of_integral_in_time),axis = None)\n",
        "#for rts, fdt, it, in zip(features_of_raw_time_series, features_of_first_derivative_in_time, features_of_integral_in_time):\n",
        " # Combined_features.append(np.concatenate((rts, fdt, it), axis=0))"
      ]
    },
    {
      "cell_type": "code",
      "source": [
        "Combined_features = np.asarray(Combined_features)\n",
        "print(features_of_first_derivative_in_time.shape)\n",
        "print(features_of_integral_in_time.shape)                                 \n",
        "print(Combined_features.shape)"
      ],
      "metadata": {
        "id": "22d_zLrtpqeR"
      },
      "execution_count": null,
      "outputs": []
    },
    {
      "cell_type": "markdown",
      "metadata": {
        "id": "Vj6xeikxWK2Y"
      },
      "source": [
        "# 3. Supervised Learning Step"
      ]
    },
    {
      "cell_type": "markdown",
      "source": [
        "I am a little confused here so I'll do both and you choose"
      ],
      "metadata": {
        "id": "AdnpEs6IxPr3"
      }
    },
    {
      "cell_type": "code",
      "execution_count": null,
      "metadata": {
        "id": "mbVrXYraWK2a"
      },
      "outputs": [],
      "source": [
        "X_train_val,X_test, y_train_val, y_test = train_test_split(X,y, test_size = 0.3, shuffle = True)\n",
        "X_train, X_val,  y_train,y_val = train_test_split (X_train_val, y_train_val, test_size = 0.05, shuffle = True)"
      ]
    },
    {
      "cell_type": "code",
      "source": [
        "#input size isvariable\n",
        "#input_data = X\n",
        "#input_shape = input_data[0].shape()"
      ],
      "metadata": {
        "id": "NJW55IBz0Iie"
      },
      "execution_count": null,
      "outputs": []
    },
    {
      "cell_type": "code",
      "source": [
        ""
      ],
      "metadata": {
        "id": "BihAhBigz24s"
      },
      "execution_count": null,
      "outputs": []
    },
    {
      "cell_type": "code",
      "source": [
        ""
      ],
      "metadata": {
        "id": "kPQWWkEjz21U"
      },
      "execution_count": null,
      "outputs": []
    },
    {
      "cell_type": "code",
      "execution_count": null,
      "metadata": {
        "id": "Ks0l8crgWK2c"
      },
      "outputs": [],
      "source": [
        ""
      ]
    },
    {
      "cell_type": "markdown",
      "metadata": {
        "id": "xYs29C2oWK2d"
      },
      "source": [
        "# 4. Big Picture"
      ]
    },
    {
      "cell_type": "code",
      "execution_count": null,
      "metadata": {
        "id": "aOKZxHtkWK2e"
      },
      "outputs": [],
      "source": [
        ""
      ]
    },
    {
      "cell_type": "code",
      "execution_count": null,
      "metadata": {
        "id": "2MnjozWuWK2f"
      },
      "outputs": [],
      "source": [
        ""
      ]
    },
    {
      "cell_type": "code",
      "execution_count": null,
      "metadata": {
        "id": "SlRe9TB6WK2g"
      },
      "outputs": [],
      "source": [
        ""
      ]
    },
    {
      "cell_type": "markdown",
      "metadata": {
        "id": "VbA2DeAUWK2g"
      },
      "source": [
        "# 5. Bonus"
      ]
    },
    {
      "cell_type": "code",
      "execution_count": null,
      "metadata": {
        "id": "0so0-6LaWK2h"
      },
      "outputs": [],
      "source": [
        ""
      ]
    },
    {
      "cell_type": "code",
      "execution_count": null,
      "metadata": {
        "id": "zhWSZOREWK2h"
      },
      "outputs": [],
      "source": [
        ""
      ]
    },
    {
      "cell_type": "code",
      "execution_count": null,
      "metadata": {
        "id": "H79sGxL5WK2i"
      },
      "outputs": [],
      "source": [
        ""
      ]
    },
    {
      "cell_type": "code",
      "execution_count": null,
      "metadata": {
        "id": "PE8lIaqUWK2i"
      },
      "outputs": [],
      "source": [
        ""
      ]
    },
    {
      "cell_type": "code",
      "execution_count": null,
      "metadata": {
        "id": "27wg5U9UWK2j"
      },
      "outputs": [],
      "source": [
        ""
      ]
    }
  ],
  "metadata": {
    "language_info": {
      "name": "python"
    },
    "orig_nbformat": 4,
    "colab": {
      "name": "model.ipynb",
      "provenance": [],
      "collapsed_sections": []
    },
    "kernelspec": {
      "name": "python3",
      "display_name": "Python 3"
    }
  },
  "nbformat": 4,
  "nbformat_minor": 0
}